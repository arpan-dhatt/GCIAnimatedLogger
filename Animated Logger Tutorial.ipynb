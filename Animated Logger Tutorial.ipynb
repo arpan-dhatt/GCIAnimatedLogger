{
 "cells": [
  {
   "cell_type": "markdown",
   "metadata": {},
   "source": [
    "# Animated Logger Tutorial\n",
    "This logger is very similar to the logger Keras uses by default. It displays the samples completed out of the total, the eastimated time remaining, and other metrics. One issue with the default logger is that it doesn't make it easy to see the progress of each metric over multiple epochs. This could be rectified by using TensorBoard, which has a variety of logging utilities. However, for smaller experiments it can be impracticle.\n",
    "\n",
    "This logger uses UTF-8 block elements to display small graphs directly in the terminal. They are displayed as a proportion of the maximum value. This allows the graph to scale automatically and provide easily understandable results."
   ]
  },
  {
   "cell_type": "markdown",
   "metadata": {},
   "source": [
    "## Usage\n",
    "By using the `ProgbarLogger` implementation from [tensorflow.keras.callbacks](https://github.com/tensorflow/tensorflow/blob/1cf0898dd4331baf93fe77205550f2c2e6c90ee5/tensorflow/python/keras/callbacks.py#L693), `AnimatedLogger` can be used in the exact same way.\n",
    "\n",
    "One stipulation is that the `verbose=` argument of the `Model.fit` method must be set to `0` when using the `AnimatedLogger`. This prevents the default progressbar from being displayed. This is required because a callback cannot affect other callbacks."
   ]
  },
  {
   "cell_type": "code",
   "execution_count": 1,
   "metadata": {},
   "outputs": [],
   "source": [
    "# setup code for the example....\n",
    "import tensorflow as tf\n",
    "from tensorflow.keras import layers\n",
    "tf.version.VERSION\n",
    "\n",
    "\"\"\"# Loading Data\"\"\"\n",
    "\n",
    "((train_data,train_labels),(eval_data,eval_labels)) = tf.keras.datasets.mnist.load_data()\n",
    "\n",
    "IMG_SIZE = train_data.shape[1]\n",
    "NUM_CLASSES = 10;\n",
    "\n",
    "#start with input(batch size omitted):\n",
    "inputs = layers.Input(shape=(IMG_SIZE,IMG_SIZE,1))\n",
    "\n",
    "#convolutional layers and max pooling\n",
    "conv1 = layers.Conv2D(32,(3,3),activation=\"relu\")(inputs)\n",
    "maxp1 = layers.MaxPooling2D((2,2))(conv1)\n",
    "conv2 = layers.Conv2D(64,(3,3),activation=\"relu\")(maxp1)\n",
    "maxp2 = layers.MaxPooling2D((2,2))(conv2)\n",
    "conv3 = layers.Conv2D(64,(3,3),activation=\"relu\")(maxp2)\n",
    "\n",
    "#flatten 3D data for Dense part of network\n",
    "flat = layers.Flatten()(conv3)\n",
    "\n",
    "#dense part of network\n",
    "dense1 = layers.Dense(64,activation=\"relu\")(flat)\n",
    "\n",
    "#final part with softmax b/c of categorical data\n",
    "outputs = layers.Dense(NUM_CLASSES,activation=\"softmax\")(dense1)\n",
    "\n",
    "#instantiate model\n",
    "model = tf.keras.Model(inputs=inputs,outputs=outputs)\n",
    "\n",
    "#normalize training data and evaluation data\n",
    "train_data = (train_data-train_data.mean())/train_data.std()\n",
    "eval_data = (eval_data-eval_data.mean())/eval_data.std()\n",
    "train_data = train_data.reshape((train_data.shape[0],IMG_SIZE,IMG_SIZE,1))\n",
    "eval_data = eval_data.reshape((eval_data.shape[0],IMG_SIZE,IMG_SIZE,1))\n",
    "\n",
    "#convert labels to one-hot\n",
    "train_labels = tf.one_hot(train_labels,10)\n",
    "eval_labels = tf.one_hot(eval_labels,10)\n",
    "\n",
    "model.compile(optimizer=\"adam\",loss=\"categorical_crossentropy\",metrics=[\"accuracy\"],)"
   ]
  },
  {
   "cell_type": "markdown",
   "metadata": {},
   "source": [
    "### AnimatedLogger callback use case\n",
    "Below is an example of how the AnimatedLogger can be used. Add `AnimatedLogger()` to the list of callbacks used.\n",
    "\n",
    "*Note:* `verbose=0`"
   ]
  },
  {
   "cell_type": "code",
   "execution_count": 2,
   "metadata": {},
   "outputs": [
    {
     "name": "stdout",
     "output_type": "stream",
     "text": [
      "Epoch 1/10\n",
      "950/950 [██████████████████████████████████████████████████] 3.72 secs  | loss: 1.08003 | accuracy: 0.47684 | val_loss: 1.07400 | val_accuracy: 0.66000 |           \n",
      "|loss                \t|accuracy            \t|val_loss            \t|val_accuracy        \t\n",
      "|████████████████████\t|████████████████████\t|████████████████████\t|████████████████████\t\n",
      "Epoch 2/10\n",
      "950/950 [██████████████████████████████████████████████████] 0.65 secs  | loss: 0.55514 | accuracy: 0.81263 | val_loss: 0.43036 | val_accuracy: 0.86000 |           \n",
      "|loss                \t|accuracy            \t|val_loss            \t|val_accuracy        \t\n",
      "|████████████████████\t|███████████▋        \t|████████████████████\t|███████████████▎    \t\n",
      "|██████▏             \t|████████████████████\t|████████            \t|████████████████████\t\n",
      "Epoch 3/10\n",
      "950/950 [██████████████████████████████████████████████████] 0.59 secs  | loss: 0.34290 | accuracy: 0.88211 | val_loss: 0.43124 | val_accuracy: 0.92000 |           \n",
      "|loss                \t|accuracy            \t|val_loss            \t|val_accuracy        \t\n",
      "|████████████████████\t|██████████▊         \t|████████████████████\t|██████████████▎     \t\n",
      "|██████▏             \t|██████████████████▍ \t|████████            \t|██████████████████▋ \t\n",
      "|███▊                \t|████████████████████\t|████████            \t|████████████████████\t\n",
      "Epoch 4/10\n",
      "950/950 [██████████████████████████████████████████████████] 0.62 secs  | loss: 0.13933 | accuracy: 0.92000 | val_loss: 0.32860 | val_accuracy: 0.92000 |           \n",
      "|loss                \t|accuracy            \t|val_loss            \t|val_accuracy        \t\n",
      "|████████████████████\t|██████████▎         \t|████████████████████\t|██████████████▎     \t\n",
      "|██████▏             \t|█████████████████▋  \t|████████            \t|██████████████████▋ \t\n",
      "|███▊                \t|███████████████████▏\t|████████            \t|████████████████████\t\n",
      "|█▌                  \t|████████████████████\t|██████              \t|████████████████████\t\n",
      "Epoch 5/10\n",
      "950/950 [██████████████████████████████████████████████████] 0.68 secs  | loss: 0.10435 | accuracy: 0.95579 | val_loss: 0.32658 | val_accuracy: 0.90000 |           \n",
      "|loss                \t|accuracy            \t|val_loss            \t|val_accuracy        \t\n",
      "|████████████████████\t|█████████▉          \t|████████████████████\t|██████████████▎     \t\n",
      "|██████▏             \t|█████████████████   \t|████████            \t|██████████████████▋ \t\n",
      "|███▊                \t|██████████████████▍ \t|████████            \t|████████████████████\t\n",
      "|█▌                  \t|███████████████████▎\t|██████              \t|████████████████████\t\n",
      "|█▏                  \t|████████████████████\t|██████              \t|███████████████████▌\t\n",
      "Epoch 6/10\n",
      "950/950 [██████████████████████████████████████████████████] 0.64 secs  | loss: 0.07465 | accuracy: 0.95263 | val_loss: 0.41645 | val_accuracy: 0.90000 |           \n",
      "|loss                \t|accuracy            \t|val_loss            \t|val_accuracy        \t\n",
      "|████████████████████\t|█████████▉          \t|████████████████████\t|██████████████▎     \t\n",
      "|██████▏             \t|█████████████████   \t|████████            \t|██████████████████▋ \t\n",
      "|███▊                \t|██████████████████▍ \t|████████            \t|████████████████████\t\n",
      "|█▌                  \t|███████████████████▎\t|██████              \t|████████████████████\t\n",
      "|█▏                  \t|████████████████████\t|██████              \t|███████████████████▌\t\n",
      "|▊                   \t|███████████████████▉\t|███████▊            \t|███████████████████▌\t\n",
      "Epoch 7/10\n",
      "950/950 [██████████████████████████████████████████████████] 0.60 secs  | loss: 0.07228 | accuracy: 0.97053 | val_loss: 0.33960 | val_accuracy: 0.92000 |           \n",
      "|loss                \t|accuracy            \t|val_loss            \t|val_accuracy        \t\n",
      "|████████████████████\t|█████████▊          \t|████████████████████\t|██████████████▎     \t\n",
      "|██████▏             \t|████████████████▋   \t|████████            \t|██████████████████▋ \t\n",
      "|███▊                \t|██████████████████▏ \t|████████            \t|████████████████████\t\n",
      "|█▌                  \t|██████████████████▉ \t|██████              \t|████████████████████\t\n",
      "|█▏                  \t|███████████████████▋\t|██████              \t|███████████████████▌\t\n",
      "|▊                   \t|███████████████████▋\t|███████▊            \t|███████████████████▌\t\n",
      "|▊                   \t|████████████████████\t|██████▎             \t|████████████████████\t\n",
      "Epoch 8/10\n",
      "950/950 [██████████████████████████████████████████████████] 0.55 secs  | loss: 0.15942 | accuracy: 0.98211 | val_loss: 0.31276 | val_accuracy: 0.96000 |           \n",
      "|loss                \t|accuracy            \t|val_loss            \t|val_accuracy        \t\n",
      "|████████████████████\t|█████████▋          \t|████████████████████\t|█████████████▊      \t\n",
      "|██████▏             \t|████████████████▌   \t|████████            \t|█████████████████▉  \t\n",
      "|███▊                \t|█████████████████▉  \t|████████            \t|███████████████████▏\t\n",
      "|█▌                  \t|██████████████████▋ \t|██████              \t|███████████████████▏\t\n",
      "|█▏                  \t|███████████████████▍\t|██████              \t|██████████████████▊ \t\n",
      "|▊                   \t|███████████████████▍\t|███████▊            \t|██████████████████▊ \t\n",
      "|▊                   \t|███████████████████▊\t|██████▎             \t|███████████████████▏\t\n",
      "|█▊                  \t|████████████████████\t|█████▊              \t|████████████████████\t\n",
      "Epoch 9/10\n",
      "950/950 [██████████████████████████████████████████████████] 0.63 secs  | loss: 0.03634 | accuracy: 0.98211 | val_loss: 0.37172 | val_accuracy: 0.92000 |           \n",
      "|loss                \t|accuracy            \t|val_loss            \t|val_accuracy        \t\n",
      "|████████████████████\t|█████████▋          \t|████████████████████\t|█████████████▊      \t\n",
      "|██████▏             \t|████████████████▌   \t|████████            \t|█████████████████▉  \t\n",
      "|███▊                \t|█████████████████▉  \t|████████            \t|███████████████████▏\t\n",
      "|█▌                  \t|██████████████████▋ \t|██████              \t|███████████████████▏\t\n",
      "|█▏                  \t|███████████████████▍\t|██████              \t|██████████████████▊ \t\n",
      "|▊                   \t|███████████████████▍\t|███████▊            \t|██████████████████▊ \t\n",
      "|▊                   \t|███████████████████▊\t|██████▎             \t|███████████████████▏\t\n",
      "|█▊                  \t|████████████████████\t|█████▊              \t|████████████████████\t\n",
      "|▍                   \t|████████████████████\t|██████▉             \t|███████████████████▏\t\n",
      "Epoch 10/10\n",
      "950/950 [██████████████████████████████████████████████████] 0.54 secs  | loss: 0.05290 | accuracy: 0.99263 | val_loss: 0.34969 | val_accuracy: 0.92000 |           \n",
      "|loss                \t|accuracy            \t|val_loss            \t|val_accuracy        \t\n",
      "|████████████████████\t|█████████▌          \t|████████████████████\t|█████████████▊      \t\n",
      "|██████▏             \t|████████████████▎   \t|████████            \t|█████████████████▉  \t\n",
      "|███▊                \t|█████████████████▊  \t|████████            \t|███████████████████▏\t\n",
      "|█▌                  \t|██████████████████▌ \t|██████              \t|███████████████████▏\t\n",
      "|█▏                  \t|███████████████████▎\t|██████              \t|██████████████████▊ \t\n",
      "|▊                   \t|███████████████████▏\t|███████▊            \t|██████████████████▊ \t\n",
      "|▊                   \t|███████████████████▌\t|██████▎             \t|███████████████████▏\t\n",
      "|█▊                  \t|███████████████████▊\t|█████▊              \t|████████████████████\t\n",
      "|▍                   \t|███████████████████▊\t|██████▉             \t|███████████████████▏\t\n",
      "|▌                   \t|████████████████████\t|██████▌             \t|███████████████████▏\t\n"
     ]
    },
    {
     "data": {
      "text/plain": [
       "<tensorflow.python.keras.callbacks.History at 0x7f6aa89a8e10>"
      ]
     },
     "execution_count": 2,
     "metadata": {},
     "output_type": "execute_result"
    }
   ],
   "source": [
    "\"\"\"Importing AnimatedLogger Callback\"\"\"\n",
    "from animated_logger import AnimatedLogger\n",
    "\"\"\"Training the model\"\"\"\n",
    "model.fit(x=train_data[:1000],y=train_labels[:1000],batch_size=64,epochs=10,validation_split=0.05,verbose=0,callbacks=[AnimatedLogger()])"
   ]
  },
  {
   "cell_type": "code",
   "execution_count": null,
   "metadata": {},
   "outputs": [],
   "source": []
  }
 ],
 "metadata": {
  "kernelspec": {
   "display_name": "Python 3",
   "language": "python",
   "name": "python3"
  },
  "language_info": {
   "codemirror_mode": {
    "name": "ipython",
    "version": 3
   },
   "file_extension": ".py",
   "mimetype": "text/x-python",
   "name": "python",
   "nbconvert_exporter": "python",
   "pygments_lexer": "ipython3",
   "version": "3.7.4"
  }
 },
 "nbformat": 4,
 "nbformat_minor": 4
}
